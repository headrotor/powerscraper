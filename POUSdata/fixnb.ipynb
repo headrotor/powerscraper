{
 "cells": [
  {
   "cell_type": "code",
   "execution_count": 1,
   "id": "f0edfe37",
   "metadata": {},
   "outputs": [],
   "source": [
    "import nbformat\n",
    "\n",
    "with open(\"RIBviz.ipynb\", \"r\") as file:\n",
    "    nb_corrupted = nbformat.reader.read(file)\n",
    "\n",
    "nbformat.validator.validate(nb_corrupted)\n",
    "# <stdin>:1: MissingIDFieldWarning: Code cell is missing an id field, \n",
    "# this will become a hard error in future nbformat versions. \n",
    "# You may want to use `normalize()` on your notebooks before validations (available since nbformat 5.1.4). \n",
    "# Previous versions of nbformat are fixing this issue transparently, and will stop doing so in the future.\n",
    "\n",
    "nb_fixed = nbformat.validator.normalize(nb_corrupted)\n",
    "nbformat.validator.validate(nb_fixed[1])\n",
    "# Produces no warnings or errors.\n",
    "\n",
    "with open(\"fixed_RIBviz.ipynb\", \"w\") as file:\n",
    "    nbformat.write(nb_fixed[1], file)"
   ]
  },
  {
   "cell_type": "code",
   "execution_count": null,
   "id": "38a36f36",
   "metadata": {},
   "outputs": [],
   "source": []
  }
 ],
 "metadata": {
  "kernelspec": {
   "display_name": "Python 3 (ipykernel)",
   "language": "python",
   "name": "python3"
  },
  "language_info": {
   "codemirror_mode": {
    "name": "ipython",
    "version": 3
   },
   "file_extension": ".py",
   "mimetype": "text/x-python",
   "name": "python",
   "nbconvert_exporter": "python",
   "pygments_lexer": "ipython3",
   "version": "3.9.17"
  }
 },
 "nbformat": 4,
 "nbformat_minor": 5
}
